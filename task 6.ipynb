{
  "nbformat": 4,
  "nbformat_minor": 0,
  "metadata": {
    "colab": {
      "provenance": [],
      "authorship_tag": "ABX9TyPBCujvgtenSC/8oR3Adbzn",
      "include_colab_link": true
    },
    "kernelspec": {
      "name": "python3",
      "display_name": "Python 3"
    },
    "language_info": {
      "name": "python"
    }
  },
  "cells": [
    {
      "cell_type": "markdown",
      "metadata": {
        "id": "view-in-github",
        "colab_type": "text"
      },
      "source": [
        "<a href=\"https://colab.research.google.com/github/vtu26557-Charitha/machine-learning/blob/main/task%206.ipynb\" target=\"_parent\"><img src=\"https://colab.research.google.com/assets/colab-badge.svg\" alt=\"Open In Colab\"/></a>"
      ]
    },
    {
      "cell_type": "code",
      "execution_count": 1,
      "metadata": {
        "colab": {
          "base_uri": "https://localhost:8080/"
        },
        "id": "TqpOY57yJgrs",
        "outputId": "58dddc92-dad1-48c3-8a40-e992e3bdf369"
      },
      "outputs": [
        {
          "output_type": "stream",
          "name": "stdout",
          "text": [
            "Total documents: 3534\n",
            "\n",
            " Evaluation Metrics:\n",
            "Classification Rate / Accuracy: 96.98%\n",
            "Precision: 97.07%\n",
            "Recall: 96.98%\n",
            "\n",
            "Classification Report:\n",
            "\n",
            "                    precision    recall  f1-score   support\n",
            "\n",
            "       alt.atheism       1.00      0.95      0.97       240\n",
            "     comp.graphics       0.94      0.99      0.97       292\n",
            "         sci.space       0.99      0.97      0.98       296\n",
            "talk.politics.misc       0.95      0.97      0.96       233\n",
            "\n",
            "          accuracy                           0.97      1061\n",
            "         macro avg       0.97      0.97      0.97      1061\n",
            "      weighted avg       0.97      0.97      0.97      1061\n",
            "\n"
          ]
        }
      ],
      "source": [
        "import pandas as pd\n",
        "from sklearn.datasets import fetch_20newsgroups\n",
        "from sklearn.feature_extraction.text import TfidfVectorizer\n",
        "from sklearn.model_selection import train_test_split\n",
        "from sklearn.svm import SVC\n",
        "from sklearn.metrics import accuracy_score, precision_score, recall_score, classification_report\n",
        "\n",
        "\n",
        "categories = ['alt.atheism', 'comp.graphics', 'sci.space', 'talk.politics.misc']\n",
        "newsgroups = fetch_20newsgroups(subset='all', categories=categories, shuffle=True, random_state=42)\n",
        "\n",
        "print(\"Total documents:\", len(newsgroups.data))\n",
        "\n",
        "vectorizer = TfidfVectorizer(stop_words='english', max_features=5000)\n",
        "X = vectorizer.fit_transform(newsgroups.data)\n",
        "y = newsgroups.target\n",
        "\n",
        "X_train, X_test, y_train, y_test = train_test_split(X, y, test_size=0.3, random_state=42, stratify=y)\n",
        "\n",
        "\n",
        "clf = SVC(kernel='rbf', C=1.0, gamma='scale')\n",
        "clf.fit(X_train, y_train)\n",
        "\n",
        "\n",
        "y_pred = clf.predict(X_test)\n",
        "\n",
        "accuracy = accuracy_score(y_test, y_pred)\n",
        "precision = precision_score(y_test, y_pred, average='weighted')\n",
        "recall = recall_score(y_test, y_pred, average='weighted')\n",
        "\n",
        "print(\"\\n Evaluation Metrics:\")\n",
        "print(f\"Classification Rate / Accuracy: {accuracy*100:.2f}%\")\n",
        "print(f\"Precision: {precision*100:.2f}%\")\n",
        "print(f\"Recall: {recall*100:.2f}%\")\n",
        "\n",
        "print(\"\\nClassification Report:\\n\")\n",
        "print(classification_report(y_test, y_pred, target_names=newsgroups.target_names))"
      ]
    }
  ]
}