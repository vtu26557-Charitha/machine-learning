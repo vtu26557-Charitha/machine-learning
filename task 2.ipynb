{
  "nbformat": 4,
  "nbformat_minor": 0,
  "metadata": {
    "colab": {
      "provenance": [],
      "authorship_tag": "ABX9TyN2yopV4f3usJlIqVgOqy8S",
      "include_colab_link": true
    },
    "kernelspec": {
      "name": "python3",
      "display_name": "Python 3"
    },
    "language_info": {
      "name": "python"
    }
  },
  "cells": [
    {
      "cell_type": "markdown",
      "metadata": {
        "id": "view-in-github",
        "colab_type": "text"
      },
      "source": [
        "<a href=\"https://colab.research.google.com/github/vtu26557-Charitha/machine-learning/blob/main/task%202.ipynb\" target=\"_parent\"><img src=\"https://colab.research.google.com/assets/colab-badge.svg\" alt=\"Open In Colab\"/></a>"
      ]
    },
    {
      "cell_type": "code",
      "execution_count": 1,
      "metadata": {
        "colab": {
          "base_uri": "https://localhost:8080/"
        },
        "id": "2xE90YjQGZoT",
        "outputId": "e6485660-c5b4-4471-9c95-334251f8c1c2"
      },
      "outputs": [
        {
          "output_type": "stream",
          "name": "stdout",
          "text": [
            "Training Data:\n",
            "\n",
            "     Sky AirTemp Humidity    Wind Water Forecast EnjoySport\n",
            "0  Sunny    Warm   Normal  Strong  Warm     Same        Yes\n",
            "1  Sunny    Warm     High  Strong  Warm     Same        Yes\n",
            "2  Rainy    Cold     High  Strong  Warm   Change         No\n",
            "3  Sunny    Warm     High  Strong  Cool   Change        Yes\n",
            "\n",
            "Initial S: ['Sunny' 'Warm' 'Normal' 'Strong' 'Warm' 'Same']\n",
            "Initial G: [['?', '?', '?', '?', '?', '?']]\n",
            "\n",
            "Step 1 — Instance: ['Sunny' 'Warm' 'Normal' 'Strong' 'Warm' 'Same'], Target: Yes\n",
            "S: ['Sunny' 'Warm' 'Normal' 'Strong' 'Warm' 'Same']\n",
            "G: [['?', '?', '?', '?', '?', '?']]\n",
            "\n",
            "Step 2 — Instance: ['Sunny' 'Warm' 'High' 'Strong' 'Warm' 'Same'], Target: Yes\n",
            "S: ['Sunny' 'Warm' '?' 'Strong' 'Warm' 'Same']\n",
            "G: [['?', '?', '?', '?', '?', '?']]\n",
            "\n",
            "Step 3 — Instance: ['Rainy' 'Cold' 'High' 'Strong' 'Warm' 'Change'], Target: No\n",
            "S: ['Sunny' 'Warm' '?' 'Strong' 'Warm' 'Same']\n",
            "G: [['Sunny', '?', '?', '?', '?', '?'], ['?', 'Warm', '?', '?', '?', '?'], ['?', '?', '?', '?', '?', '?'], ['?', '?', '?', '?', '?', 'Same']]\n",
            "\n",
            "Step 4 — Instance: ['Sunny' 'Warm' 'High' 'Strong' 'Cool' 'Change'], Target: Yes\n",
            "S: ['Sunny' 'Warm' '?' 'Strong' '?' '?']\n",
            "G: [['Sunny', '?', '?', '?', '?', '?'], ['?', 'Warm', '?', '?', '?', '?'], ['?', '?', '?', '?', '?', '?']]\n",
            "\n",
            "Final Specific Hypothesis S: ['Sunny' 'Warm' '?' 'Strong' '?' '?']\n",
            "Final General Hypotheses G: [['Sunny', '?', '?', '?', '?', '?'], ['?', 'Warm', '?', '?', '?', '?'], ['?', '?', '?', '?', '?', '?']]\n"
          ]
        }
      ],
      "source": [
        "import numpy as np\n",
        "import pandas as pd\n",
        "\n",
        "\n",
        "data = pd.DataFrame([\n",
        "    ['Sunny', 'Warm', 'Normal', 'Strong', 'Warm', 'Same', 'Yes'],\n",
        "    ['Sunny', 'Warm', 'High', 'Strong', 'Warm', 'Same', 'Yes'],\n",
        "    ['Rainy', 'Cold', 'High', 'Strong', 'Warm', 'Change', 'No'],\n",
        "    ['Sunny', 'Warm', 'High', 'Strong', 'Cool', 'Change', 'Yes']\n",
        "], columns=['Sky', 'AirTemp', 'Humidity', 'Wind', 'Water', 'Forecast', 'EnjoySport'])\n",
        "\n",
        "print(\"Training Data:\\n\")\n",
        "print(data)\n",
        "\n",
        "concepts = np.array(data.iloc[:, 0:-1])\n",
        "target = np.array(data.iloc[:, -1])\n",
        "\n",
        "\n",
        "S = concepts[0].copy()\n",
        "\n",
        "G = [['?' for i in range(len(S))]]\n",
        "\n",
        "print(\"\\nInitial S:\", S)\n",
        "print(\"Initial G:\", G)\n",
        "\n",
        "\n",
        "for i, h in enumerate(concepts):\n",
        "    if target[i] == \"Yes\":\n",
        "        for x in range(len(S)):\n",
        "            if h[x] != S[x]:\n",
        "                S[x] = '?'\n",
        "\n",
        "        G = [g for g in G if all(s == g[j] or g[j] == '?' for j, s in enumerate(S))]\n",
        "    else:\n",
        "        Gtemp = []\n",
        "        for g in G:\n",
        "            for x in range(len(g)):\n",
        "                if g[x] == '?':\n",
        "                    if S[x] != h[x]:\n",
        "                        new_hypothesis = g.copy()\n",
        "                        new_hypothesis[x] = S[x]\n",
        "                        Gtemp.append(new_hypothesis)\n",
        "        G = Gtemp.copy()\n",
        "    print(f\"\\nStep {i+1} — Instance: {h}, Target: {target[i]}\")\n",
        "    print(\"S:\", S)\n",
        "    print(\"G:\", G)\n",
        "\n",
        "\n",
        "print(\"\\nFinal Specific Hypothesis S:\", S)\n",
        "print(\"Final General Hypotheses G:\", G)"
      ]
    }
  ]
}