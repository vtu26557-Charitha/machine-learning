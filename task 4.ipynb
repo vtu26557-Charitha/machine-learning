{
  "nbformat": 4,
  "nbformat_minor": 0,
  "metadata": {
    "colab": {
      "provenance": [],
      "authorship_tag": "ABX9TyM8yVsVyVXbWkbhAs3iWWxJ",
      "include_colab_link": true
    },
    "kernelspec": {
      "name": "python3",
      "display_name": "Python 3"
    },
    "language_info": {
      "name": "python"
    }
  },
  "cells": [
    {
      "cell_type": "markdown",
      "metadata": {
        "id": "view-in-github",
        "colab_type": "text"
      },
      "source": [
        "<a href=\"https://colab.research.google.com/github/vtu26557-Charitha/machine-learning/blob/main/task%204.ipynb\" target=\"_parent\"><img src=\"https://colab.research.google.com/assets/colab-badge.svg\" alt=\"Open In Colab\"/></a>"
      ]
    },
    {
      "cell_type": "code",
      "execution_count": 1,
      "metadata": {
        "colab": {
          "base_uri": "https://localhost:8080/"
        },
        "id": "GO4JCY4-ImKn",
        "outputId": "ff903521-babf-46a5-e837-ac74988a6981"
      },
      "outputs": [
        {
          "output_type": "stream",
          "name": "stdout",
          "text": [
            "Feature shape: (150, 4)\n",
            "Target shape: (150,)\n",
            "\n",
            "Predicted labels: [2 1 1 1 2 2 1 1 0 2 0 0 2 2 0 2 1 0 0 0 1 0 1 2 2 1 1 1 1 0 2 2 1 0 2 0 0\n",
            " 0 0 1 1 0 2 2 1]\n",
            "True labels     : [2 1 2 1 2 2 1 1 0 2 0 0 2 2 0 2 1 0 0 0 1 0 1 2 2 1 1 1 1 0 2 2 1 0 2 0 0\n",
            " 0 0 1 1 0 2 2 1]\n",
            "\n",
            " Accuracy of GMM Classifier: 97.78%\n"
          ]
        }
      ],
      "source": [
        "import numpy as np\n",
        "import pandas as pd\n",
        "from sklearn.mixture import GaussianMixture\n",
        "from sklearn.datasets import load_iris\n",
        "from sklearn.model_selection import train_test_split\n",
        "from sklearn.metrics import accuracy_score\n",
        "\n",
        "\n",
        "iris = load_iris()\n",
        "X = iris.data\n",
        "y = iris.target\n",
        "\n",
        "print(\"Feature shape:\", X.shape)\n",
        "print(\"Target shape:\", y.shape)\n",
        "\n",
        "X_train, X_test, y_train, y_test = train_test_split(\n",
        "    X, y, test_size=0.3, random_state=42, stratify=y\n",
        ")\n",
        "\n",
        "\n",
        "gmms = []\n",
        "for label in np.unique(y_train):\n",
        "    gmm = GaussianMixture(n_components=1, covariance_type='full', random_state=42)\n",
        "    gmm.fit(X_train[y_train == label])\n",
        "    gmms.append(gmm)\n",
        "\n",
        "\n",
        "y_pred = []\n",
        "for sample in X_test:\n",
        "    scores = [gmm.score_samples([sample]).mean() for gmm in gmms]\n",
        "    predicted_label = np.argmax(scores)\n",
        "    y_pred.append(predicted_label)\n",
        "\n",
        "y_pred = np.array(y_pred)\n",
        "\n",
        "\n",
        "acc = accuracy_score(y_test, y_pred)\n",
        "print(\"\\nPredicted labels:\", y_pred)\n",
        "print(\"True labels     :\", y_test)\n",
        "print(f\"\\n Accuracy of GMM Classifier: {acc*100:.2f}%\")"
      ]
    }
  ]
}